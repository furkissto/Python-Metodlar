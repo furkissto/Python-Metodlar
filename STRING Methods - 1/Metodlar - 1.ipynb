{
 "cells": [
  {
   "cell_type": "markdown",
   "id": "headed-evans",
   "metadata": {},
   "source": [
    "#\n",
    "index()\n",
    "\n",
    "İçine girelen değeri string'de arar ve bize indis değerini döndürür.\n",
    "find() metodundan farkı eğer aranan değer bulunmuyorsa ValueError hatası alırsınız (find() metodunda ise eğer aranan değer yoksa \"-1\" değeri geri döner.)\n",
    "\n",
    "\n",
    "Sözdizimi:\n",
    "\n",
    "string.index(değer, başlangıç, bitiş)\n",
    "\n",
    "\n",
    "Girilen parametreler:\n",
    "\n",
    "değer: String'in içinde aradğımız ifadedir.\n",
    "başlangıç: Aradığımız ifadeyi aramaya hangi indisden başlayacağımızı belirtiriz.\n",
    "bitiş: Arayacağımız ifadeyi aramayı hangi indiste bırakacağımızı belirtiriz.\n",
    "\n",
    "\n",
    "Örnek:"
   ]
  },
  {
   "cell_type": "code",
   "execution_count": 1,
   "id": "concerned-switzerland",
   "metadata": {
    "scrolled": true
   },
   "outputs": [
    {
     "data": {
      "text/plain": [
       "8"
      ]
     },
     "execution_count": 1,
     "metadata": {},
     "output_type": "execute_result"
    }
   ],
   "source": [
    "\"Merhaba Dünya\".index(\"D\")"
   ]
  },
  {
   "cell_type": "code",
   "execution_count": 2,
   "id": "purple-mexico",
   "metadata": {
    "scrolled": true
   },
   "outputs": [
    {
     "ename": "ValueError",
     "evalue": "substring not found",
     "output_type": "error",
     "traceback": [
      "\u001b[1;31m---------------------------------------------------------------------------\u001b[0m",
      "\u001b[1;31mValueError\u001b[0m                                Traceback (most recent call last)",
      "\u001b[1;32m<ipython-input-2-0267f92792a0>\u001b[0m in \u001b[0;36m<module>\u001b[1;34m\u001b[0m\n\u001b[1;32m----> 1\u001b[1;33m \u001b[1;34m\"Merhaba Dünya\"\u001b[0m\u001b[1;33m.\u001b[0m\u001b[0mindex\u001b[0m\u001b[1;33m(\u001b[0m\u001b[1;34m\"D\"\u001b[0m\u001b[1;33m,\u001b[0m\u001b[1;36m9\u001b[0m\u001b[1;33m,\u001b[0m\u001b[1;36m11\u001b[0m\u001b[1;33m)\u001b[0m\u001b[1;33m\u001b[0m\u001b[1;33m\u001b[0m\u001b[0m\n\u001b[0m",
      "\u001b[1;31mValueError\u001b[0m: substring not found"
     ]
    }
   ],
   "source": [
    "\"Merhaba Dünya\".index(\"D\",9,11)"
   ]
  },
  {
   "cell_type": "code",
   "execution_count": 3,
   "id": "advance-permission",
   "metadata": {
    "scrolled": true
   },
   "outputs": [
    {
     "ename": "ValueError",
     "evalue": "substring not found",
     "output_type": "error",
     "traceback": [
      "\u001b[1;31m---------------------------------------------------------------------------\u001b[0m",
      "\u001b[1;31mValueError\u001b[0m                                Traceback (most recent call last)",
      "\u001b[1;32m<ipython-input-3-8325fbc493ed>\u001b[0m in \u001b[0;36m<module>\u001b[1;34m\u001b[0m\n\u001b[1;32m----> 1\u001b[1;33m \u001b[0mprint\u001b[0m\u001b[1;33m(\u001b[0m\u001b[1;34m\"Merhaba Dünya\"\u001b[0m\u001b[1;33m.\u001b[0m\u001b[0mindex\u001b[0m\u001b[1;33m(\u001b[0m\u001b[1;34m\"x\"\u001b[0m\u001b[1;33m)\u001b[0m\u001b[1;33m)\u001b[0m\u001b[1;33m\u001b[0m\u001b[1;33m\u001b[0m\u001b[0m\n\u001b[0m",
      "\u001b[1;31mValueError\u001b[0m: substring not found"
     ]
    }
   ],
   "source": [
    "print(\"Merhaba Dünya\".index(\"x\"))"
   ]
  },
  {
   "cell_type": "code",
   "execution_count": 4,
   "id": "flexible-borough",
   "metadata": {
    "scrolled": true
   },
   "outputs": [
    {
     "name": "stdout",
     "output_type": "stream",
     "text": [
      "-1\n"
     ]
    }
   ],
   "source": [
    "print(\"Merhaba Dünya\".find(\"x\"))"
   ]
  },
  {
   "cell_type": "markdown",
   "id": "packed-curve",
   "metadata": {},
   "source": [
    "#\n",
    "isalnum()\n",
    "\n",
    "Verdiğimiz değerde (a-z) ve (0-9) harici karekterlerden başka karekter yoksa \"True\" eğer varsa \"False\" döndürür.\n",
    "Örnek bozan karekterler: Boşluk, !, #, %, &, ?\n",
    "\n",
    "\n",
    "Sözdizimi: \n",
    "\n",
    "string.isalnum()\n",
    "\n",
    "\n",
    "Girilen paremetreler:\n",
    "\n",
    "Bu metot herhangi bir paremetre almıyor.\n",
    "\n",
    "\n",
    "Örnek:"
   ]
  },
  {
   "cell_type": "code",
   "execution_count": 5,
   "id": "whole-scanner",
   "metadata": {},
   "outputs": [
    {
     "data": {
      "text/plain": [
       "False"
      ]
     },
     "execution_count": 5,
     "metadata": {},
     "output_type": "execute_result"
    }
   ],
   "source": [
    "\"Furkan İBİŞ\".isalnum()\n",
    "#Dikkat edin arada boşluk karekteri var."
   ]
  },
  {
   "cell_type": "code",
   "execution_count": 6,
   "id": "biological-gregory",
   "metadata": {
    "scrolled": true
   },
   "outputs": [
    {
     "data": {
      "text/plain": [
       "True"
      ]
     },
     "execution_count": 6,
     "metadata": {},
     "output_type": "execute_result"
    }
   ],
   "source": [
    "\"FurkanİBİŞ\".isalnum()"
   ]
  },
  {
   "cell_type": "markdown",
   "id": "assigned-relaxation",
   "metadata": {},
   "source": [
    "#\n",
    "casefold()\n",
    "\n",
    "Bu metot verilen string değerinin içindeki tüm büyük harfleri küçük harfe çevirir.\n",
    "Bu metot lower() metoduna göre daha büyük bir alınabilirliği kapsar. lower() metodunun çeviremeyeceği karekterleri bile çevirebilir. Örneklerde de göreceğiz zaten.\n",
    "\n",
    "\n",
    "Sözdizimi: \n",
    "\n",
    "string.casefold()\n",
    "\n",
    "\n",
    "Girilen paremetreler: \n",
    "\n",
    "Bu metot paremetre almıyor.\n",
    "\n",
    "\n",
    "Örnek:"
   ]
  },
  {
   "cell_type": "code",
   "execution_count": 7,
   "id": "legal-residence",
   "metadata": {},
   "outputs": [
    {
     "data": {
      "text/plain": [
       "'merhaba dünya'"
      ]
     },
     "execution_count": 7,
     "metadata": {},
     "output_type": "execute_result"
    }
   ],
   "source": [
    "\"Merhaba DÜNYA\".casefold()"
   ]
  },
  {
   "cell_type": "code",
   "execution_count": 8,
   "id": "after-trinity",
   "metadata": {},
   "outputs": [
    {
     "data": {
      "text/plain": [
       "'ß'"
      ]
     },
     "execution_count": 8,
     "metadata": {},
     "output_type": "execute_result"
    }
   ],
   "source": [
    "\"ß\".lower()"
   ]
  },
  {
   "cell_type": "code",
   "execution_count": 10,
   "id": "architectural-visit",
   "metadata": {},
   "outputs": [
    {
     "data": {
      "text/plain": [
       "'ss'"
      ]
     },
     "execution_count": 10,
     "metadata": {},
     "output_type": "execute_result"
    }
   ],
   "source": [
    "\"ß\".casefold()"
   ]
  },
  {
   "cell_type": "markdown",
   "id": "interim-seattle",
   "metadata": {},
   "source": [
    "#\n",
    "center()\n",
    "\n",
    "Bu metot karekter uzunluğunu da dahil edecek şekilde belirtilen uzunlukta ve şekilde stringi ortalar.\n",
    "\n",
    "\n",
    "Sözdizimi: \n",
    "\n",
    "string.center(uzunluk, karakter)\n",
    "\n",
    "\n",
    "Girilen parametreler:\n",
    "\n",
    "uzunluk: stringin kendi uzunluğu dahil olmak üzere yana kaç karekter atayacağımızı burada söyleriz.\n",
    "karakter: String'i hangi karekter ile ortalayacağımızı belirtiriz.\n",
    "\n",
    "\n",
    "Örnek:"
   ]
  },
  {
   "cell_type": "code",
   "execution_count": 11,
   "id": "prepared-patio",
   "metadata": {},
   "outputs": [
    {
     "data": {
      "text/plain": [
       "'       Furkan       '"
      ]
     },
     "execution_count": 11,
     "metadata": {},
     "output_type": "execute_result"
    }
   ],
   "source": [
    "\"Furkan\".center(20,\" \")"
   ]
  },
  {
   "cell_type": "code",
   "execution_count": 12,
   "id": "alert-voltage",
   "metadata": {},
   "outputs": [
    {
     "data": {
      "text/plain": [
       "'Furkan'"
      ]
     },
     "execution_count": 12,
     "metadata": {},
     "output_type": "execute_result"
    }
   ],
   "source": [
    "\"Furkan\".center(5,\" \")"
   ]
  },
  {
   "cell_type": "code",
   "execution_count": 13,
   "id": "alternative-tourism",
   "metadata": {},
   "outputs": [
    {
     "data": {
      "text/plain": [
       "'-------Furkan-------'"
      ]
     },
     "execution_count": 13,
     "metadata": {},
     "output_type": "execute_result"
    }
   ],
   "source": [
    "\"Furkan\".center(20,\"-\")"
   ]
  },
  {
   "cell_type": "markdown",
   "id": "joint-central",
   "metadata": {},
   "source": [
    "#\n",
    "count()\n",
    "\n",
    "Bu metot stringin içinde belirttiğimiz değerin kaç adet olduğunu söyler.\n",
    "\n",
    "\n",
    "Sözdizimi:\n",
    "\n",
    "string.count(değer, başlangıç, bitiş)\n",
    "\n",
    "\n",
    "Girilen paremetreler:\n",
    "\n",
    "değer: Aradığımız değer\n",
    "başlangıç: Aramaya başladığımız indis değeri\n",
    "bitiş: Aramayı bitirdiğimiz indis değeri\n",
    "\n",
    "\n",
    "Örnek:"
   ]
  },
  {
   "cell_type": "code",
   "execution_count": 15,
   "id": "level-oliver",
   "metadata": {},
   "outputs": [
    {
     "data": {
      "text/plain": [
       "3"
      ]
     },
     "execution_count": 15,
     "metadata": {},
     "output_type": "execute_result"
    }
   ],
   "source": [
    "\"Merhaba Dünya\".count(\"a\")"
   ]
  },
  {
   "cell_type": "code",
   "execution_count": 17,
   "id": "optimum-brave",
   "metadata": {},
   "outputs": [
    {
     "data": {
      "text/plain": [
       "1"
      ]
     },
     "execution_count": 17,
     "metadata": {},
     "output_type": "execute_result"
    }
   ],
   "source": [
    "\"Merhaba Dünya\".count(\"a\",8,13)"
   ]
  },
  {
   "cell_type": "markdown",
   "id": "gorgeous-library",
   "metadata": {},
   "source": [
    "#\n",
    "endswith()\n",
    "\n",
    "Bu metot belirtilen string'in belirttiğimiz değerle bitip bitmediğini kontrol eder. Eğer belirttiğimiz değerle bitiyorsa \"True\" eğer bitmiyorsa \"False\" geri döndürür.\n",
    "\n",
    "\n",
    "Sözdizimi:\n",
    "\n",
    "string.endswith(değer, başlangıç, bitiş)\n",
    "\n",
    "\n",
    "Girilen paremetreler:\n",
    "\n",
    "değer: Aradığımız değer\n",
    "başlangıç: Aramaya başladığımız indis değeri\n",
    "bitiş: Aramayı bitirdiğimiz indis değeri\n",
    "\n",
    "\n",
    "Örnek:"
   ]
  },
  {
   "cell_type": "code",
   "execution_count": 18,
   "id": "given-paper",
   "metadata": {},
   "outputs": [
    {
     "data": {
      "text/plain": [
       "True"
      ]
     },
     "execution_count": 18,
     "metadata": {},
     "output_type": "execute_result"
    }
   ],
   "source": [
    "\"Furkan\".endswith(\"n\")"
   ]
  },
  {
   "cell_type": "code",
   "execution_count": 20,
   "id": "dimensional-demonstration",
   "metadata": {},
   "outputs": [
    {
     "data": {
      "text/plain": [
       "True"
      ]
     },
     "execution_count": 20,
     "metadata": {},
     "output_type": "execute_result"
    }
   ],
   "source": [
    "\"Furkan\".endswith(\"r\",0,3)\n",
    "# \"r\"'ye kadar olan kısmı arattığımız için \"r\"'yi son karekter kabul edip true döndürdü."
   ]
  },
  {
   "cell_type": "markdown",
   "id": "japanese-encyclopedia",
   "metadata": {},
   "source": [
    "#\n",
    "expandtabs()\n",
    "\n",
    "Bu metot string içindeki \"\\t\" değerlerini tespit edip o alandaki boşluk sayısını ayarlayabilmemizi sağlar.\n",
    "\n",
    "Sözdizimi:\n",
    "\n",
    "string.exandtabs(değer)\n",
    "\n",
    "\n",
    "Girilen parametreler:\n",
    "\n",
    "değer: Ayarlamak istediğimiz boşluk sayısı eğer boş bırakırsak otomatik olarak 8 karekter boşluk atar. \n",
    "\n",
    "\n",
    "Örnek:"
   ]
  },
  {
   "cell_type": "code",
   "execution_count": 27,
   "id": "immune-apparel",
   "metadata": {},
   "outputs": [
    {
     "data": {
      "text/plain": [
       "'F       U       R       K       A       N'"
      ]
     },
     "execution_count": 27,
     "metadata": {},
     "output_type": "execute_result"
    }
   ],
   "source": [
    "\"F\\tU\\tR\\tK\\tA\\tN\".expandtabs()"
   ]
  },
  {
   "cell_type": "code",
   "execution_count": 28,
   "id": "accessible-background",
   "metadata": {},
   "outputs": [
    {
     "data": {
      "text/plain": [
       "'F U R K A N'"
      ]
     },
     "execution_count": 28,
     "metadata": {},
     "output_type": "execute_result"
    }
   ],
   "source": [
    "\"F\\tU\\tR\\tK\\tA\\tN\".expandtabs(1)"
   ]
  },
  {
   "cell_type": "markdown",
   "id": "middle-clear",
   "metadata": {},
   "source": [
    "#\n",
    "find()\n",
    "\n",
    "Bu metotda tıpkı index() metodu gibi belirtilen string içinde belirtilen değeri arar. Bulursa bize indis değerini yoksa -1 değerini döndürür ki index() metodundan farkı budur.\n",
    "\n",
    "\n",
    "Sözdizimi:\n",
    "\n",
    "string.find(değer, başlangıç, bitiş)\n",
    "\n",
    "\n",
    "Girilen parametreler:\n",
    "\n",
    "değer: Aradığımız değer\n",
    "başlangıç: Aramaya başladığımız indis değeri\n",
    "bitiş: Aramayı bitirdiğimiz indis değeri\n",
    "\n",
    "\n",
    "Örnek:"
   ]
  },
  {
   "cell_type": "code",
   "execution_count": 29,
   "id": "unknown-horizon",
   "metadata": {},
   "outputs": [
    {
     "data": {
      "text/plain": [
       "4"
      ]
     },
     "execution_count": 29,
     "metadata": {},
     "output_type": "execute_result"
    }
   ],
   "source": [
    "\"Furkan\".find(\"an\")"
   ]
  },
  {
   "cell_type": "code",
   "execution_count": 31,
   "id": "wooden-italic",
   "metadata": {},
   "outputs": [
    {
     "data": {
      "text/plain": [
       "6"
      ]
     },
     "execution_count": 31,
     "metadata": {},
     "output_type": "execute_result"
    }
   ],
   "source": [
    "\"Merhaba Dünya\".find(\"a\",5,9)"
   ]
  },
  {
   "cell_type": "code",
   "execution_count": 32,
   "id": "deadly-vegetarian",
   "metadata": {},
   "outputs": [
    {
     "data": {
      "text/plain": [
       "-1"
      ]
     },
     "execution_count": 32,
     "metadata": {},
     "output_type": "execute_result"
    }
   ],
   "source": [
    "\"Merhaba Dünya\".find(\"x\")"
   ]
  },
  {
   "cell_type": "markdown",
   "id": "naked-proxy",
   "metadata": {},
   "source": [
    "#\n",
    "format()\n",
    "\n",
    "Bu değer string içerisinde {} ile belirttiğimiz alanlara değişken ataması yapmamızı sağlar.\n",
    "\n",
    "\n",
    "Sözdizimi:\n",
    "\n",
    "string.format(değer1, değer2, ...)\n",
    "\n",
    "\n",
    "Girilen parametreler:\n",
    "\n",
    "değer1, değer2, ...: Bu metot sınırsız değişken alabilir yazılmasını istediğimiz değişkeni metoda parametre olarak veririz\n",
    "\n",
    "\n",
    "Örnek:"
   ]
  },
  {
   "cell_type": "code",
   "execution_count": 33,
   "id": "english-disposal",
   "metadata": {},
   "outputs": [
    {
     "data": {
      "text/plain": [
       "'Furkan İBİŞ Hoşgeldiniz.'"
      ]
     },
     "execution_count": 33,
     "metadata": {},
     "output_type": "execute_result"
    }
   ],
   "source": [
    "ad=\"Furkan\"\n",
    "soyad=\"İBİŞ\"\n",
    "\"{} {} Hoşgeldiniz.\".format(ad,soyad)"
   ]
  }
 ],
 "metadata": {
  "kernelspec": {
   "display_name": "Python 3",
   "language": "python",
   "name": "python3"
  },
  "language_info": {
   "codemirror_mode": {
    "name": "ipython",
    "version": 3
   },
   "file_extension": ".py",
   "mimetype": "text/x-python",
   "name": "python",
   "nbconvert_exporter": "python",
   "pygments_lexer": "ipython3",
   "version": "3.8.5"
  }
 },
 "nbformat": 4,
 "nbformat_minor": 5
}
